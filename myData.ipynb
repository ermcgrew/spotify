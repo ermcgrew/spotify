{
 "cells": [
  {
   "cell_type": "code",
   "execution_count": 4,
   "id": "09aabe0e",
   "metadata": {},
   "outputs": [
    {
     "ename": "ImportError",
     "evalue": "cannot import name 'redirect_uri' from 'config' (C:\\Users\\ermcg\\Documents\\git_repos\\spotify\\config.py)",
     "output_type": "error",
     "traceback": [
      "\u001b[1;31m---------------------------------------------------------------------------\u001b[0m",
      "\u001b[1;31mImportError\u001b[0m                               Traceback (most recent call last)",
      "\u001b[1;32m~\\AppData\\Local\\Temp/ipykernel_8860/4014715557.py\u001b[0m in \u001b[0;36m<module>\u001b[1;34m\u001b[0m\n\u001b[0;32m      4\u001b[0m \u001b[1;32mfrom\u001b[0m \u001b[0mspotipy\u001b[0m\u001b[1;33m.\u001b[0m\u001b[0moauth2\u001b[0m \u001b[1;32mimport\u001b[0m \u001b[0mSpotifyOAuth\u001b[0m\u001b[1;33m\u001b[0m\u001b[1;33m\u001b[0m\u001b[0m\n\u001b[0;32m      5\u001b[0m \u001b[1;33m\u001b[0m\u001b[0m\n\u001b[1;32m----> 6\u001b[1;33m \u001b[1;32mfrom\u001b[0m \u001b[0mconfig\u001b[0m \u001b[1;32mimport\u001b[0m \u001b[0mclient_id\u001b[0m\u001b[1;33m,\u001b[0m \u001b[0mclient_secret\u001b[0m\u001b[1;33m,\u001b[0m \u001b[0mredirect_uri\u001b[0m\u001b[1;33m\u001b[0m\u001b[1;33m\u001b[0m\u001b[0m\n\u001b[0m",
      "\u001b[1;31mImportError\u001b[0m: cannot import name 'redirect_uri' from 'config' (C:\\Users\\ermcg\\Documents\\git_repos\\spotify\\config.py)"
     ]
    }
   ],
   "source": [
    "import json\n",
    "import spotipy\n",
    "import pandas as pd\n",
    "from spotipy.oauth2 import SpotifyOAuth\n",
    "\n",
    "from config import client_id, client_secret, redirect_uri\n"
   ]
  },
  {
   "cell_type": "code",
   "execution_count": 2,
   "id": "e8364da8",
   "metadata": {},
   "outputs": [],
   "source": [
    "sp = spotipy.Spotify(auth_manager=SpotifyOAuth(client_id=client_id,\n",
    "                                               client_secret=client_secret,\n",
    "                                               redirect_uri=redirect_uri,\n",
    "                                               scope=\"user-library-read\"))"
   ]
  },
  {
   "cell_type": "code",
   "execution_count": 3,
   "id": "e21029ee",
   "metadata": {},
   "outputs": [
    {
     "name": "stdout",
     "output_type": "stream",
     "text": [
      "0 True Loves  –  Famous Last Words\n",
      "1 Betty Davis  –  Hangin' Out\n",
      "2 JC Brooks & The Uptown Sound  –  I Am Trying to Break Your Heart\n",
      "3 Caroline Rose  –  Soul No. 5\n",
      "4 Rahsaan Roland Kirk  –  You Did It, You Did It\n",
      "5 Ann Robinson  –  You Did It\n",
      "6 Upstate  –  Weekend\n",
      "7 Spoon  –  The Hardest Cut\n",
      "8 Labrinth  –  Sexy MF\n",
      "9 Jon Batiste  –  FREEDOM\n",
      "10 Sharon Jones & The Dap-Kings  –  Cut That Line\n",
      "11 Fatboy Slim  –  Praise You - Radio Edit\n",
      "12 Martin Solveig  –  Jealousy (Radio Edit)\n",
      "13 Martin Solveig  –  Hello (feat. Dragonette)\n",
      "14 LION BABE  –  Got Body\n",
      "15 Jungle  –  Truth\n",
      "16 Tune-Yards  –  Hammer\n",
      "17 Jungle  –  Talk About It\n",
      "18 Olivia Rodrigo  –  brutal\n",
      "19 Ramsey Lewis Trio  –  The \"In\" Crowd - Live At The Bohemian Caverns, Washington, D.C., 1965\n"
     ]
    }
   ],
   "source": [
    "results = sp.current_user_saved_tracks()\n",
    "for idx, item in enumerate(results['items']):\n",
    "    track = item['track']\n",
    "    print(idx, track['artists'][0]['name'], \" – \", track['name'])"
   ]
  },
  {
   "cell_type": "code",
   "execution_count": null,
   "id": "05330f17",
   "metadata": {},
   "outputs": [],
   "source": []
  }
 ],
 "metadata": {
  "kernelspec": {
   "display_name": "Python [conda env:PythonData] *",
   "language": "python",
   "name": "conda-env-PythonData-py"
  },
  "language_info": {
   "codemirror_mode": {
    "name": "ipython",
    "version": 3
   },
   "file_extension": ".py",
   "mimetype": "text/x-python",
   "name": "python",
   "nbconvert_exporter": "python",
   "pygments_lexer": "ipython3",
   "version": "3.8.11"
  }
 },
 "nbformat": 4,
 "nbformat_minor": 5
}
